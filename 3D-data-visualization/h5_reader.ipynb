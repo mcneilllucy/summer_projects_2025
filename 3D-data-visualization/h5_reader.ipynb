{
 "cells": [
  {
   "cell_type": "code",
   "execution_count": 33,
   "metadata": {},
   "outputs": [
    {
     "name": "stdout",
     "output_type": "stream",
     "text": [
      "52720.0793\n"
     ]
    }
   ],
   "source": [
    "import numpy as np\n",
    "import h5py\n",
    "f = h5py.File('snapdata.hdf5', 'r')\n",
    "#ls = list(f.keys())\n",
    "#print('List of datasets in this file: \\n',ls)\n",
    "data = f.get('snap_52720')\n",
    "dataset1 = np.array(data)\n",
    "#print(dataset1)\n",
    "\n",
    "list = ['N' 'N*' 'id' 'kw' 'logL' 'm' 'radius' 't' 'vx' 'vy' 'vz' 'x' 'y' 'z']\n",
    "\n",
    "\n",
    "\n",
    "print(data['t'].value)\n",
    "\n",
    "\n",
    "\n",
    "\n"
   ]
  },
  {
   "cell_type": "code",
   "execution_count": null,
   "metadata": {},
   "outputs": [],
   "source": [
    "data_items = list(data.items())\n",
    "print(data_items)\n"
   ]
  },
  {
   "cell_type": "code",
   "execution_count": null,
   "metadata": {},
   "outputs": [],
   "source": [
    "base_items = list(f.items())\n",
    "print(base_items)"
   ]
  },
  {
   "cell_type": "code",
   "execution_count": null,
   "metadata": {},
   "outputs": [],
   "source": [
    "#### we want to be able to access four things: stellar type, ID, mass and time to interact with the binary eject file.\n",
    "import pandas as pd\n",
    "\n",
    "\n",
    "\n",
    "hdf = pd.HDFStore('/Users/lucym/Documents/2019/GC_simulations/snapdata.hdf5', 'r')\n",
    "\n",
    "\n",
    "\n"
   ]
  },
  {
   "cell_type": "code",
   "execution_count": null,
   "metadata": {},
   "outputs": [],
   "source": [
    "hdf.keys()"
   ]
  },
  {
   "cell_type": "code",
   "execution_count": null,
   "metadata": {},
   "outputs": [],
   "source": [
    "pwd"
   ]
  },
  {
   "cell_type": "code",
   "execution_count": null,
   "metadata": {},
   "outputs": [],
   "source": [
    "man grep"
   ]
  },
  {
   "cell_type": "code",
   "execution_count": null,
   "metadata": {},
   "outputs": [],
   "source": []
  }
 ],
 "metadata": {
  "kernelspec": {
   "display_name": "Python 3 (ipykernel)",
   "language": "python",
   "name": "python3"
  },
  "language_info": {
   "codemirror_mode": {
    "name": "ipython",
    "version": 3
   },
   "file_extension": ".py",
   "mimetype": "text/x-python",
   "name": "python",
   "nbconvert_exporter": "python",
   "pygments_lexer": "ipython3",
   "version": "3.12.3"
  }
 },
 "nbformat": 4,
 "nbformat_minor": 4
}
